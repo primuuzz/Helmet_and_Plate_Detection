{
 "cells": [
  {
   "cell_type": "code",
   "execution_count": 1,
   "metadata": {},
   "outputs": [
    {
     "name": "stdout",
     "output_type": "stream",
     "text": [
      "Requirement already satisfied: pytesseract in c:\\users\\user\\appdata\\local\\programs\\python\\python38\\lib\\site-packages (0.3.7)\n",
      "Requirement already satisfied: Pillow in c:\\users\\user\\appdata\\local\\programs\\python\\python38\\lib\\site-packages (from pytesseract) (8.0.1)\n"
     ]
    },
    {
     "name": "stderr",
     "output_type": "stream",
     "text": [
      "WARNING: You are using pip version 20.2.1; however, version 21.0.1 is available.\n",
      "You should consider upgrading via the 'c:\\users\\user\\appdata\\local\\programs\\python\\python38\\python.exe -m pip install --upgrade pip' command.\n"
     ]
    }
   ],
   "source": [
    "!pip install pytesseract"
   ]
  },
  {
   "cell_type": "code",
   "execution_count": 2,
   "metadata": {},
   "outputs": [],
   "source": [
    "import cv2\n",
    "import numpy as np\n",
    "import matplotlib.pyplot as plt"
   ]
  },
  {
   "cell_type": "code",
   "execution_count": 3,
   "metadata": {},
   "outputs": [],
   "source": [
    "## provide the path for testing cofing file and tained model form colab\n",
    "net = cv2.dnn.readNetFromDarknet(\"helmet_detection_yolov3.cfg\",r\"C:\\Users\\user\\Downloads\\yolov3_costum_final.weights\")"
   ]
  },
  {
   "cell_type": "code",
   "execution_count": 4,
   "metadata": {},
   "outputs": [],
   "source": [
    "### Change here for custom classes for trained model \n",
    "\n",
    "classes = ['Plat Nomor','Menggunakan Helm','Tidak Menggunakan Helm',]"
   ]
  },
  {
   "cell_type": "code",
   "execution_count": 5,
   "metadata": {},
   "outputs": [],
   "source": [
    "import pytesseract\n",
    "import re\n",
    "pytesseract.pytesseract.tesseract_cmd = r'C:\\\\Program Files\\\\Tesseract-OCR\\\\tesseract.exe'"
   ]
  },
  {
   "cell_type": "code",
   "execution_count": 6,
   "metadata": {},
   "outputs": [],
   "source": [
    "def ocr(img, box):\n",
    "    x, y, w, h = box\n",
    "    crop = img[y:y+h, x:x+w, :]\n",
    "    crop = cv2.resize(crop, None, fx=2, fy=2)\n",
    "    #cv2_imshow(crop)\n",
    "    # Alternatively: can be skipped if you have a Blackwhite image\n",
    "    gray = cv2.cvtColor(crop, cv2.COLOR_RGB2GRAY)\n",
    "    gray, img_bin = cv2.threshold(gray, 128, 255, cv2.THRESH_BINARY | cv2.THRESH_OTSU)\n",
    "    gray = cv2.bitwise_not(img_bin)\n",
    "    # Removing noise by morphological operations:\n",
    "    kernel = np.ones((3, 3), np.uint8)\n",
    "    crop = cv2.erode(gray, kernel, iterations=1)\n",
    "    crop = cv2.dilate(crop, kernel, iterations=1)\n",
    "    #cv2.imshow('test',crop)\n",
    "    # Recognizing characters:\n",
    "    return pytesseract.image_to_string(crop)\n",
    "    #print (output)\n",
    "    # Optimizing output:\n",
    "    #lines = re.split(\"\\n+\", output)\n",
    "    #new_lines = []\n",
    "    #for line in lines:\n",
    "    #    words = re.split(\"\\\\s+\", line.strip().upper())\n",
    "    #    new_line = \" \".join(words)\n",
    "    #if new_line not in (\"\", \"W\", \"WO\", \"OW\"):\n",
    "    #    new_lines.append(new_line)\n",
    "    #    new_output = \"\\n\".join(new_lines)\n",
    "    #    return new_output"
   ]
  },
  {
   "cell_type": "code",
   "execution_count": null,
   "metadata": {},
   "outputs": [],
   "source": [
    "cap = cv2.VideoCapture(0)\n",
    "\n",
    "while 1:\n",
    "    _, img = cap.read()\n",
    "    img = cv2.resize(img,(900,700))\n",
    "    hight,width,_ = img.shape\n",
    "    blob = cv2.dnn.blobFromImage(img, 1/255,(416,416),(0,0,0),swapRB = True,crop= False)\n",
    "\n",
    "    net.setInput(blob)\n",
    "\n",
    "    output_layers_name = net.getUnconnectedOutLayersNames()\n",
    "\n",
    "    layerOutputs = net.forward(output_layers_name)\n",
    "\n",
    "    boxes =[]\n",
    "    confidences = []\n",
    "    class_ids = []\n",
    "\n",
    "    for output in layerOutputs:\n",
    "        for detection in output:\n",
    "            score = detection[5:]\n",
    "            class_id = np.argmax(score)\n",
    "            confidence = score[class_id]\n",
    "            if confidence > 0.7:\n",
    "                center_x = int(detection[0] * width)\n",
    "                center_y = int(detection[1] * hight)\n",
    "                w = int(detection[2] * width)\n",
    "                h = int(detection[3]* hight)\n",
    "                x = int(center_x - w/2)\n",
    "                y = int(center_y - h/2)\n",
    "                boxes.append([x,y,w,h])\n",
    "                confidences.append((float(confidence)))\n",
    "                class_ids.append(class_id)\n",
    "\n",
    "\n",
    "    indexes = cv2.dnn.NMSBoxes(boxes,confidences,.5,.4)\n",
    "\n",
    "    boxes =[]\n",
    "    confidences = []\n",
    "    class_ids = []\n",
    "\n",
    "    for output in layerOutputs:\n",
    "        for detection in output:\n",
    "            score = detection[5:]\n",
    "            class_id = np.argmax(score)\n",
    "            confidence = score[class_id]\n",
    "            if confidence > 0.5:\n",
    "                center_x = int(detection[0] * width)\n",
    "                center_y = int(detection[1] * hight)\n",
    "                w = int(detection[2] * width)\n",
    "                h = int(detection[3]* hight)\n",
    "\n",
    "                x = int(center_x - w/2)\n",
    "                y = int(center_y - h/2)\n",
    "\n",
    "                boxes.append([x,y,w,h])\n",
    "                confidences.append((float(confidence)))\n",
    "                class_ids.append(class_id)\n",
    "\n",
    "    \n",
    "    indexes = cv2.dnn.NMSBoxes(boxes,confidences,.8,.4)\n",
    "    # Non-maximum suppression:\n",
    "    results = [(class_ids[i], boxes[i]) for i in range(len(boxes)) if i in indexes]\n",
    "    \n",
    "    font = cv2.FONT_HERSHEY_PLAIN\n",
    "    colors = np.random.uniform(0,255,size =(len(boxes),3))\n",
    "    if  len(indexes)>0:\n",
    "        for i in indexes.flatten():\n",
    "            x,y,w,h = boxes[i]\n",
    "            label = str(classes[class_ids[i]])\n",
    "            confidence = str(round(confidences[i],2))\n",
    "            color = colors[i]\n",
    "            cv2.rectangle(img,(x,y),(x+w,y+h),color,2)\n",
    "            if (label == 'Plat Nomor'):\n",
    "                cv2.putText(img,ocr(img,boxes[i]) + \"  \" + confidence, (x,y+200),font,2,color,2)\n",
    "                print(ocr(img,boxes[i]))\n",
    "            else:\n",
    "                cv2.putText(img,label + \" \" + confidence, (x,y+400),font,2,color,2)\n",
    "\n",
    "    cv2.imshow('img',img)\n",
    "    if cv2.waitKey(1) == ord('q'):\n",
    "        break\n",
    "    \n",
    "cap.release()\n",
    "cv2.destroyAllWindows()"
   ]
  },
  {
   "cell_type": "code",
   "execution_count": null,
   "metadata": {},
   "outputs": [],
   "source": []
  },
  {
   "cell_type": "code",
   "execution_count": null,
   "metadata": {},
   "outputs": [],
   "source": []
  },
  {
   "cell_type": "code",
   "execution_count": null,
   "metadata": {},
   "outputs": [],
   "source": []
  }
 ],
 "metadata": {
  "kernelspec": {
   "display_name": "Python 3",
   "language": "python",
   "name": "python3"
  },
  "language_info": {
   "codemirror_mode": {
    "name": "ipython",
    "version": 3
   },
   "file_extension": ".py",
   "mimetype": "text/x-python",
   "name": "python",
   "nbconvert_exporter": "python",
   "pygments_lexer": "ipython3",
   "version": "3.8.6"
  }
 },
 "nbformat": 4,
 "nbformat_minor": 4
}
